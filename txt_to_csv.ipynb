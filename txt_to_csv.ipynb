{
 "cells": [
  {
   "cell_type": "code",
   "execution_count": 2,
   "metadata": {},
   "outputs": [],
   "source": [
    "import matplotlib\n",
    "\n"
   ]
  },
  {
   "cell_type": "code",
   "execution_count": 16,
   "metadata": {},
   "outputs": [],
   "source": [
    "with open(\"docs/data/flexiones_miguel.txt\") as f:\n",
    "    lines = f.readlines()\n",
    "    canal1 = []\n",
    "    canal2 = []\n",
    "    canal3 = []\n",
    "    canal4 = []\n",
    "    canal5 = []\n",
    "    intervals = []\n",
    "for i in range(3,len(lines)):\n",
    "    intervals.append(lines[i].split(\"\\t\")[0])\n",
    "    canal1.append(lines[i].split(\"\\t\")[1])\n",
    "    canal2.append(lines[i].split(\"\\t\")[2])\n",
    "    canal3.append(lines[i].split(\"\\t\")[3])\n",
    "    canal4.append(lines[i].split(\"\\t\")[4])\n",
    "    canal5.append(lines[i].split(\"\\t\")[5])\n"
   ]
  },
  {
   "cell_type": "code",
   "execution_count": 17,
   "metadata": {},
   "outputs": [],
   "source": [
    "columns = [\"intervalos\", \"canal1\", \"canal2\", \"canal3\", \"canal4\", \"canal5\"]\n",
    "data = [intervals, canal1, canal2, canal3, canal4, canal5]"
   ]
  },
  {
   "cell_type": "code",
   "execution_count": 20,
   "metadata": {},
   "outputs": [],
   "source": [
    "import pandas as pd\n",
    "df = pd.DataFrame(data, columns).T\n",
    "df.to_csv(\"docs/data/csv/flexiones_miguel.csv\", index=False)"
   ]
  },
  {
   "cell_type": "code",
   "execution_count": null,
   "metadata": {},
   "outputs": [],
   "source": []
  }
 ],
 "metadata": {
  "kernelspec": {
   "display_name": "Python 3",
   "language": "python",
   "name": "python3"
  },
  "language_info": {
   "codemirror_mode": {
    "name": "ipython",
    "version": 3
   },
   "file_extension": ".py",
   "mimetype": "text/x-python",
   "name": "python",
   "nbconvert_exporter": "python",
   "pygments_lexer": "ipython3",
   "version": "3.11.5"
  }
 },
 "nbformat": 4,
 "nbformat_minor": 2
}
